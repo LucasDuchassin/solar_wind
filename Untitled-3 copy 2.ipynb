{
 "cells": [
  {
   "cell_type": "code",
   "execution_count": 1,
   "metadata": {},
   "outputs": [],
   "source": [
    "import numpy as np\n",
    "import pandas as pd\n",
    "import matplotlib.pyplot as plt\n",
    "from problem import get_train_data\n",
    "from problem import get_test_data\n",
    "from catboost import CatBoost, CatBoostClassifier"
   ]
  },
  {
   "cell_type": "code",
   "execution_count": 2,
   "metadata": {},
   "outputs": [],
   "source": [
    "def compute_rolling_std(X_df, feature, time_window, center=True):\n",
    "    \"\"\"\n",
    "    For a given dataframe, compute the standard deviation over\n",
    "    a defined period of time (time_window) of a defined feature\n",
    "\n",
    "    Parameters\n",
    "    ----------\n",
    "    X : dataframe\n",
    "    feature : str\n",
    "        feature in the dataframe we wish to compute the rolling std from\n",
    "    time_window : str\n",
    "        string that defines the length of the time window passed to `rolling`\n",
    "    center : bool\n",
    "        boolean to indicate if the point of the dataframe considered is\n",
    "        center or end of the window\n",
    "    \"\"\"\n",
    "    name = \"_\".join([feature, time_window, \"std\"])\n",
    "    X_df[name] = X_df[feature].rolling(time_window, center=center).std()\n",
    "    X_df[name] = X_df[name].ffill().bfill()\n",
    "    X_df[name] = X_df[name].astype(X_df[feature].dtype)\n",
    "    return X_df\n",
    "\n",
    "def compute_rolling_mean(X_df, feature, time_window, center=True):\n",
    "    \"\"\"\n",
    "    For a given dataframe, compute the mean over\n",
    "    a defined period of time (time_window) of a defined feature\n",
    "\n",
    "    Parameters\n",
    "    ----------\n",
    "    X : dataframe\n",
    "    feature : str\n",
    "        feature in the dataframe we wish to compute the rolling mean from\n",
    "    time_window : str\n",
    "        string that defines the length of the time window passed to `rolling`\n",
    "    center : bool\n",
    "        boolean to indicate if the point of the dataframe considered is\n",
    "        center or end of the window\n",
    "    \"\"\"\n",
    "    name = \"_\".join([feature, time_window, \"mean\"])\n",
    "    X_df[name] = X_df[feature].rolling(time_window, center=center).mean()\n",
    "    X_df[name] = X_df[name].ffill().bfill()\n",
    "    X_df[name] = X_df[name].astype(X_df[feature].dtype)\n",
    "    return X_df\n",
    "\n",
    "def compute_rolling_median(X_df, feature, time_window, center=True):\n",
    "    \"\"\"\n",
    "    For a given dataframe, compute the mean over\n",
    "    a defined period of time (time_window) of a defined feature\n",
    "\n",
    "    Parameters\n",
    "    ----------\n",
    "    X : dataframe\n",
    "    feature : str\n",
    "        feature in the dataframe we wish to compute the rolling mean from\n",
    "    time_window : str\n",
    "        string that defines the length of the time window passed to `rolling`\n",
    "    center : bool\n",
    "        boolean to indicate if the point of the dataframe considered is\n",
    "        center or end of the window\n",
    "    \"\"\"\n",
    "    name = \"_\".join([feature, time_window, \"median\", str(center)])\n",
    "    X_df[name] = X_df[feature].rolling(time_window, center=center).median()\n",
    "    X_df[name] = X_df[name].ffill().bfill()\n",
    "    X_df[name] = X_df[name].astype(X_df[feature].dtype)\n",
    "    return X_df\n",
    "\n",
    "def compute_rolling_variables(X_df, feature, time_window, center=True):\n",
    "    X_df = compute_rolling_mean(X_df, feature, time_window, center)\n",
    "    #X_df = compute_rolling_std(X_df, feature, time_window, center)\n",
    "    return X_df\n",
    "\n",
    "def clip_column(X_df, column, min, max):\n",
    "    X_df[column] = X_df[column].clip(min, max)\n",
    "    return X_df\n",
    "\n",
    "def compute_rolling_diff(X, feat, periods):\n",
    "    name = \"_\".join([feat, str(periods)])\n",
    "    X[name] = X[feat].pct_change(periods=periods)\n",
    "    X[name] = X[name].ffill().bfill()\n",
    "    X[name] = X[name].astype(X[feat].dtype)\n",
    "    return X"
   ]
  },
  {
   "cell_type": "code",
   "execution_count": 3,
   "metadata": {},
   "outputs": [],
   "source": [
    "def transform1(X):\n",
    "    X = clip_column(X, 'Beta', 0, 500)\n",
    "    X = clip_column(X, \"B\", 0, 1000)\n",
    "    X = clip_column(X, \"RmsBob\", 0, 20)\n",
    "    X = clip_column(X, \"Vth\", 0, 200)\n",
    "    X = clip_column(X, \"Vx\", 0, 500)\n",
    "    X = clip_column(X, \"Np\", 0, 100)\n",
    "    X = clip_column(X, \"Range F 13\", 0, 10**9)\n",
    "    Cols = [\"B\", \"Beta\", \"RmsBob\", \"V\", \"Vth\", \"Range F 13\"]\n",
    "    X = X.drop(columns=[col for col in X if col not in Cols])\n",
    "\n",
    "    # X = compute_rolling_std(X, \"B\", \"24h\", True)\n",
    "    # X = compute_rolling_std(X, \"B\", \"24h\", False)\n",
    "\n",
    "    # X = compute_rolling_mean(X, \"RmsBob\", \"24h\", True)\n",
    "    # X = compute_rolling_mean(X, \"RmsBob\", \"24h\", False)\n",
    "\n",
    "    # X = compute_rolling_mean(X, \"RmsBob\", \"12h\", True)\n",
    "\n",
    "    # X = compute_rolling_mean(X, \"B\", \"24h\", True)\n",
    "\n",
    "    # X = compute_rolling_mean(X, \"Beta\", \"2h\", True)\n",
    "\n",
    "    # X = compute_rolling_mean(X, \"Beta\", \"1h\", True)\n",
    "\n",
    "    # X = compute_rolling_mean(X, \"RmsBob\", \"6h\", True)\n",
    "\n",
    "    # X = compute_rolling_mean(X, \"Beta\", \"12h\", True)\n",
    "    # X = compute_rolling_mean(X, \"Beta\", \"12h\", False)\n",
    "\n",
    "    # X = compute_rolling_mean(X, \"Beta\", \"6h\", True)\n",
    "    # X = compute_rolling_mean(X, \"Beta\", \"6h\", False)\n",
    "\n",
    "    # X = compute_rolling_mean(X, \"Beta\", \"24h\", True)\n",
    "    # X = compute_rolling_mean(X, \"Beta\", \"24h\", False)\n",
    "\n",
    "    # X = compute_rolling_std(X, 'B', \"48h\", False)\n",
    "    # X = compute_rolling_std(X, 'B', \"48h\", True)\n",
    "\n",
    "    # X = compute_rolling_mean(X, \"RmsBob\", \"48h\", True)\n",
    "\n",
    "    # X = compute_rolling_std(X, 'B', \"48h\", False)\n",
    "\n",
    "    # X = compute_rolling_std(X, 'B', \"72h\", False)\n",
    "\n",
    "    # X = compute_rolling_mean(X, \"RmsBob\", \"18h\", True)\n",
    "\n",
    "    # X = compute_rolling_mean(X, \"RmsBob\", \"12h\", True)\n",
    "    # X = compute_rolling_mean(X, \"RmsBob\", \"12h\", False)\n",
    "\n",
    "    # X = compute_rolling_mean(X, \"Beta\", \"3h\", True)\n",
    "    # X = compute_rolling_mean(X, \"Beta\", \"4h\", True)\n",
    "    # X = compute_rolling_mean(X, \"Beta\", \"5h\", True)\n",
    "\n",
    "    # X = compute_rolling_median(X, \"RmsBob\", \"24h\", True)\n",
    "    # X = compute_rolling_median(X, \"RmsBob\", \"24h\", False)\n",
    "    # X = compute_rolling_median(X, \"B\", \"24h\", True)\n",
    "    # X = compute_rolling_median(X, \"B\", \"24h\", False)\n",
    "    # X = compute_rolling_median(X, \"Beta\", \"24h\", True)\n",
    "    # X = compute_rolling_median(X, \"Beta\", \"24h\", False)\n",
    "\n",
    "    # X = compute_rolling_median(X, \"RmsBob\", \"12h\", True)\n",
    "    # X = compute_rolling_median(X, \"RmsBob\", \"12h\", False)\n",
    "    # X = compute_rolling_median(X, \"B\", \"12h\", True)\n",
    "    # X = compute_rolling_median(X, \"B\", \"12h\", False)\n",
    "    # X = compute_rolling_median(X, \"Beta\", \"12h\", True)\n",
    "    # X = compute_rolling_median(X, \"Beta\", \"12h\", False)\n",
    "    for i in [24, 48, 96]:\n",
    "        for col in X.columns:\n",
    "            X = compute_rolling_diff(X, col, i)\n",
    "            X = compute_rolling_diff(X, col, -i)\n",
    "            X = X.copy()\n",
    "    return X"
   ]
  },
  {
   "cell_type": "code",
   "execution_count": 4,
   "metadata": {},
   "outputs": [],
   "source": [
    "X, y = get_train_data()\n",
    "Xt, yt = get_test_data()\n",
    "X = transform1(X)\n",
    "X = X.copy()\n",
    "Xt = transform1(Xt)\n",
    "Xt = Xt.copy()"
   ]
  },
  {
   "cell_type": "code",
   "execution_count": 5,
   "metadata": {},
   "outputs": [
    {
     "name": "stdout",
     "output_type": "stream",
     "text": [
      "0:\tlearn: 0.6308397\ttest: 0.6246544\tbest: 0.6246544 (0)\ttotal: 264ms\tremaining: 2m 11s\n",
      "25:\tlearn: 0.2325759\ttest: 0.1743839\tbest: 0.1743839 (25)\ttotal: 2.5s\tremaining: 45.7s\n",
      "50:\tlearn: 0.1997126\ttest: 0.1392884\tbest: 0.1392884 (50)\ttotal: 4.7s\tremaining: 41.4s\n",
      "75:\tlearn: 0.1883080\ttest: 0.1288827\tbest: 0.1288827 (75)\ttotal: 6.83s\tremaining: 38.1s\n",
      "100:\tlearn: 0.1819342\ttest: 0.1245462\tbest: 0.1245462 (100)\ttotal: 9.04s\tremaining: 35.7s\n",
      "125:\tlearn: 0.1772735\ttest: 0.1214972\tbest: 0.1214972 (125)\ttotal: 11.1s\tremaining: 33s\n",
      "150:\tlearn: 0.1738982\ttest: 0.1198440\tbest: 0.1198440 (150)\ttotal: 13.2s\tremaining: 30.4s\n",
      "175:\tlearn: 0.1709776\ttest: 0.1183000\tbest: 0.1183000 (175)\ttotal: 15.2s\tremaining: 28.1s\n",
      "200:\tlearn: 0.1686911\ttest: 0.1171940\tbest: 0.1171940 (200)\ttotal: 17.3s\tremaining: 25.7s\n",
      "225:\tlearn: 0.1666048\ttest: 0.1162582\tbest: 0.1162582 (225)\ttotal: 19.3s\tremaining: 23.4s\n",
      "250:\tlearn: 0.1647519\ttest: 0.1156330\tbest: 0.1156330 (250)\ttotal: 21.3s\tremaining: 21.2s\n",
      "275:\tlearn: 0.1630810\ttest: 0.1147165\tbest: 0.1147165 (275)\ttotal: 23.4s\tremaining: 19s\n",
      "300:\tlearn: 0.1615429\ttest: 0.1142195\tbest: 0.1142195 (300)\ttotal: 25.4s\tremaining: 16.8s\n",
      "325:\tlearn: 0.1601636\ttest: 0.1136941\tbest: 0.1136933 (322)\ttotal: 27.4s\tremaining: 14.6s\n",
      "350:\tlearn: 0.1588370\ttest: 0.1132701\tbest: 0.1132701 (350)\ttotal: 29.4s\tremaining: 12.5s\n",
      "375:\tlearn: 0.1576844\ttest: 0.1127741\tbest: 0.1127741 (375)\ttotal: 31.4s\tremaining: 10.4s\n",
      "400:\tlearn: 0.1565014\ttest: 0.1123757\tbest: 0.1123757 (400)\ttotal: 33.6s\tremaining: 8.28s\n",
      "425:\tlearn: 0.1553815\ttest: 0.1120482\tbest: 0.1120482 (425)\ttotal: 35.6s\tremaining: 6.19s\n",
      "450:\tlearn: 0.1544382\ttest: 0.1117522\tbest: 0.1117522 (450)\ttotal: 37.6s\tremaining: 4.08s\n",
      "475:\tlearn: 0.1534318\ttest: 0.1114296\tbest: 0.1114296 (475)\ttotal: 39.7s\tremaining: 2s\n",
      "499:\tlearn: 0.1525882\ttest: 0.1112582\tbest: 0.1112582 (499)\ttotal: 41.6s\tremaining: 0us\n",
      "\n",
      "bestTest = 0.1112581879\n",
      "bestIteration = 499\n",
      "\n"
     ]
    },
    {
     "data": {
      "text/plain": [
       "<catboost.core.CatBoostClassifier at 0x1e1cf79a220>"
      ]
     },
     "execution_count": 5,
     "metadata": {},
     "output_type": "execute_result"
    }
   ],
   "source": [
    "cat = CatBoostClassifier(\n",
    "    iterations=500,\n",
    "    loss_function='Logloss',\n",
    "    custom_metric=['F1', 'Recall', 'Accuracy'],\n",
    "    #auto_class_weights='SqrtBalanced',\n",
    "    use_best_model=True,\n",
    "    l2_leaf_reg=0,\n",
    "    learning_rate=0.05,\n",
    "    depth=4,\n",
    "    verbose=25,\n",
    "    task_type='CPU'\n",
    ")\n",
    "\n",
    "cat.fit(\n",
    "    X,\n",
    "    y=y,\n",
    "    eval_set=(Xt, yt)\n",
    ")"
   ]
  },
  {
   "cell_type": "code",
   "execution_count": 6,
   "metadata": {},
   "outputs": [
    {
     "name": "stderr",
     "output_type": "stream",
     "text": [
      "c:\\Users\\lucas\\mambaforge\\envs\\ramp-solar-wind\\lib\\site-packages\\tqdm\\auto.py:22: TqdmWarning: IProgress not found. Please update jupyter and ipywidgets. See https://ipywidgets.readthedocs.io/en/stable/user_install.html\n",
      "  from .autonotebook import tqdm as notebook_tqdm\n"
     ]
    },
    {
     "data": {
      "image/png": "[encoded data removed]",
      "text/plain": [
       "<Figure size 800x950 with 1 Axes>"
      ]
     },
     "metadata": {},
     "output_type": "display_data"
    }
   ],
   "source": [
    "import shap\n",
    "explainer = shap.TreeExplainer(cat)\n",
    "shap_values = explainer.shap_values(X)\n",
    "shap.summary_plot(shap_values, X.values, plot_type='bar', class_names=cat.classes_, feature_names=X.columns)"
   ]
  },
  {
   "cell_type": "code",
   "execution_count": 7,
   "metadata": {},
   "outputs": [
    {
     "data": {
      "text/plain": [
       "{'nan_mode': 'Min',\n",
       " 'eval_metric': 'Logloss',\n",
       " 'iterations': 500,\n",
       " 'sampling_frequency': 'PerTree',\n",
       " 'leaf_estimation_method': 'Newton',\n",
       " 'grow_policy': 'SymmetricTree',\n",
       " 'penalties_coefficient': 1,\n",
       " 'boosting_type': 'Plain',\n",
       " 'model_shrink_mode': 'Constant',\n",
       " 'feature_border_type': 'GreedyLogSum',\n",
       " 'bayesian_matrix_reg': 0.10000000149011612,\n",
       " 'eval_fraction': 0,\n",
       " 'force_unit_auto_pair_weights': False,\n",
       " 'l2_leaf_reg': 9.999999682655224e-21,\n",
       " 'random_strength': 1,\n",
       " 'rsm': 1,\n",
       " 'boost_from_average': False,\n",
       " 'model_size_reg': 0.5,\n",
       " 'pool_metainfo_options': {'tags': {}},\n",
       " 'subsample': 0.800000011920929,\n",
       " 'use_best_model': True,\n",
       " 'class_names': [0, 1],\n",
       " 'random_seed': 0,\n",
       " 'depth': 4,\n",
       " 'posterior_sampling': False,\n",
       " 'border_count': 254,\n",
       " 'classes_count': 0,\n",
       " 'auto_class_weights': 'None',\n",
       " 'sparse_features_conflict_fraction': 0,\n",
       " 'custom_metric': ['F1', 'Recall', 'Accuracy'],\n",
       " 'leaf_estimation_backtracking': 'AnyImprovement',\n",
       " 'best_model_min_trees': 1,\n",
       " 'model_shrink_rate': 0,\n",
       " 'min_data_in_leaf': 1,\n",
       " 'loss_function': 'Logloss',\n",
       " 'learning_rate': 0.05000000074505806,\n",
       " 'score_function': 'Cosine',\n",
       " 'task_type': 'CPU',\n",
       " 'leaf_estimation_iterations': 10,\n",
       " 'bootstrap_type': 'MVS',\n",
       " 'max_leaves': 16}"
      ]
     },
     "execution_count": 7,
     "metadata": {},
     "output_type": "execute_result"
    }
   ],
   "source": [
    "cat.get_all_params()"
   ]
  },
  {
   "cell_type": "code",
   "execution_count": null,
   "metadata": {},
   "outputs": [],
   "source": []
  }
 ],
 "metadata": {
  "kernelspec": {
   "display_name": "ramp-solar-wind",
   "language": "python",
   "name": "python3"
  },
  "language_info": {
   "codemirror_mode": {
    "name": "ipython",
    "version": 3
   },
   "file_extension": ".py",
   "mimetype": "text/x-python",
   "name": "python",
   "nbconvert_exporter": "python",
   "pygments_lexer": "ipython3",
   "version": "3.9.16"
  },
  "orig_nbformat": 4,
  "vscode": {
   "interpreter": {
    "hash": "7c9aa956e2d59f664626ac281328bd8a9d4ec19c50ee90188062f6065960da6d"
   }
  }
 },
 "nbformat": 4,
 "nbformat_minor": 2
}
