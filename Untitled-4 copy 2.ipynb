{
 "cells": [
  {
   "cell_type": "code",
   "execution_count": 1,
   "metadata": {},
   "outputs": [],
   "source": [
    "import numpy as np\n",
    "import pandas as pd\n",
    "#import matplotlib.pyplot as plt\n",
    "from problem import get_train_data\n",
    "from problem import get_test_data\n",
    "from keras import layers, models, optimizers, losses, metrics\n",
    "import pandas as pd\n",
    "import tensorflow as tf\n",
    "from keras.wrappers.scikit_learn import KerasClassifier\n",
    "from sklearn.preprocessing import StandardScaler\n",
    "from keras import backend as K\n",
    "import matplotlib.pyplot as plt"
   ]
  },
  {
   "cell_type": "code",
   "execution_count": 2,
   "metadata": {},
   "outputs": [],
   "source": [
    "gpus = tf.config.experimental.list_physical_devices('GPU')\n",
    "if gpus:\n",
    "  try:\n",
    "    tf.config.experimental.set_virtual_device_configuration(gpus[0], [tf.config.experimental.VirtualDeviceConfiguration(memory_limit=4096)])\n",
    "  except RuntimeError as e:\n",
    "    print(e)"
   ]
  },
  {
   "cell_type": "code",
   "execution_count": 24,
   "metadata": {},
   "outputs": [],
   "source": [
    "K.clear_session()"
   ]
  },
  {
   "cell_type": "code",
   "execution_count": 4,
   "metadata": {},
   "outputs": [],
   "source": [
    "def compute_rolling_std(X_df, feature, time_window, center=True):\n",
    "    \"\"\"\n",
    "    For a given dataframe, compute the standard deviation over\n",
    "    a defined period of time (time_window) of a defined feature\n",
    "\n",
    "    Parameters\n",
    "    ----------\n",
    "    X : dataframe\n",
    "    feature : str\n",
    "        feature in the dataframe we wish to compute the rolling std from\n",
    "    time_window : str\n",
    "        string that defines the length of the time window passed to `rolling`\n",
    "    center : bool\n",
    "        boolean to indicate if the point of the dataframe considered is\n",
    "        center or end of the window\n",
    "    \"\"\"\n",
    "    name = \"_\".join([feature, time_window, \"std\"])\n",
    "    X_df[name] = X_df[feature].rolling(time_window, center=center).std()\n",
    "    X_df[name] = X_df[name].ffill().bfill()\n",
    "    X_df[name] = X_df[name].astype(X_df[feature].dtype)\n",
    "    return X_df\n",
    "\n",
    "\n",
    "def compute_rolling_mean(X_df, feature, time_window, center=True):\n",
    "    \"\"\"\n",
    "    For a given dataframe, compute the mean over\n",
    "    a defined period of time (time_window) of a defined feature\n",
    "\n",
    "    Parameters\n",
    "    ----------\n",
    "    X : dataframe\n",
    "    feature : str\n",
    "        feature in the dataframe we wish to compute the rolling mean from\n",
    "    time_window : str\n",
    "        string that defines the length of the time window passed to `rolling`\n",
    "    center : bool\n",
    "        boolean to indicate if the point of the dataframe considered is\n",
    "        center or end of the window\n",
    "    \"\"\"\n",
    "    name = \"_\".join([feature, time_window, \"mean\"])\n",
    "    X_df[name] = X_df[feature].rolling(time_window, center=center).mean()\n",
    "    X_df[name] = X_df[name].ffill().bfill()\n",
    "    X_df[name] = X_df[name].astype(X_df[feature].dtype)\n",
    "    return X_df\n",
    "\n",
    "def compute_rolling_variables(X_df, feature, time_window, center=True):\n",
    "    X_df = compute_rolling_mean(X_df, feature, time_window, center)\n",
    "    #X_df = compute_rolling_std(X_df, feature, time_window, center)\n",
    "    return X_df\n",
    "\n",
    "def clip_column(X_df, column, min, max):\n",
    "    X_df[column] = X_df[column].clip(min, max)\n",
    "    return X_df"
   ]
  },
  {
   "cell_type": "code",
   "execution_count": 5,
   "metadata": {},
   "outputs": [],
   "source": [
    "def transform1(X):\n",
    "    X = clip_column(X, 'Beta', 0, 250)\n",
    "    X = clip_column(X, 'Np_nl', 0, 100)\n",
    "    X = clip_column(X, 'Np', 0, 500)\n",
    "    Cols = ['B', 'Beta', 'RmsBob', 'V']\n",
    "    X = X.drop(columns=[col for col in X if col not in Cols])\n",
    "\n",
    "    return X"
   ]
  },
  {
   "cell_type": "code",
   "execution_count": 6,
   "metadata": {},
   "outputs": [
    {
     "data": {
      "text/html": [
       "<div>\n",
       "<style scoped>\n",
       "    .dataframe tbody tr th:only-of-type {\n",
       "        vertical-align: middle;\n",
       "    }\n",
       "\n",
       "    .dataframe tbody tr th {\n",
       "        vertical-align: top;\n",
       "    }\n",
       "\n",
       "    .dataframe thead th {\n",
       "        text-align: right;\n",
       "    }\n",
       "</style>\n",
       "<table border=\"1\" class=\"dataframe\">\n",
       "  <thead>\n",
       "    <tr style=\"text-align: right;\">\n",
       "      <th></th>\n",
       "      <th>0</th>\n",
       "      <th>1</th>\n",
       "      <th>2</th>\n",
       "      <th>3</th>\n",
       "    </tr>\n",
       "  </thead>\n",
       "  <tbody>\n",
       "    <tr>\n",
       "      <th>0</th>\n",
       "      <td>-0.005080</td>\n",
       "      <td>-0.573399</td>\n",
       "      <td>4.059326</td>\n",
       "      <td>5.698732</td>\n",
       "    </tr>\n",
       "    <tr>\n",
       "      <th>1</th>\n",
       "      <td>-0.088282</td>\n",
       "      <td>-0.807332</td>\n",
       "      <td>4.945187</td>\n",
       "      <td>6.582492</td>\n",
       "    </tr>\n",
       "    <tr>\n",
       "      <th>2</th>\n",
       "      <td>-0.146365</td>\n",
       "      <td>-0.992652</td>\n",
       "      <td>6.574393</td>\n",
       "      <td>1.705064</td>\n",
       "    </tr>\n",
       "    <tr>\n",
       "      <th>3</th>\n",
       "      <td>-0.175486</td>\n",
       "      <td>-1.067191</td>\n",
       "      <td>8.987238</td>\n",
       "      <td>1.933270</td>\n",
       "    </tr>\n",
       "    <tr>\n",
       "      <th>4</th>\n",
       "      <td>-0.066827</td>\n",
       "      <td>-0.999182</td>\n",
       "      <td>5.593461</td>\n",
       "      <td>1.306907</td>\n",
       "    </tr>\n",
       "  </tbody>\n",
       "</table>\n",
       "</div>"
      ],
      "text/plain": [
       "          0         1         2         3\n",
       "0 -0.005080 -0.573399  4.059326  5.698732\n",
       "1 -0.088282 -0.807332  4.945187  6.582492\n",
       "2 -0.146365 -0.992652  6.574393  1.705064\n",
       "3 -0.175486 -1.067191  8.987238  1.933270\n",
       "4 -0.066827 -0.999182  5.593461  1.306907"
      ]
     },
     "execution_count": 6,
     "metadata": {},
     "output_type": "execute_result"
    }
   ],
   "source": [
    "X, y = get_train_data()\n",
    "Xt, yt = get_test_data()\n",
    "X = transform1(X)\n",
    "Xt = transform1(Xt)\n",
    "scaler = StandardScaler()\n",
    "X = scaler.fit_transform(X)\n",
    "X = pd.DataFrame(X)\n",
    "Xt = scaler.fit_transform(Xt)\n",
    "Xt = pd.DataFrame(Xt)\n",
    "X.iloc[0:5]\n",
    "# X = X.iloc[0:300000]\n",
    "# y = y.iloc[0:300000]\n",
    "# Xt = Xt.iloc[100000:200000]\n",
    "# yt = yt.iloc[100000:200000]"
   ]
  },
  {
   "cell_type": "code",
   "execution_count": 7,
   "metadata": {},
   "outputs": [],
   "source": [
    "def data_tensor1(X, size):\n",
    "    Ten=[]\n",
    "    for i in range (size, X.shape[0]+1-size):\n",
    "        Ten.append(tf.convert_to_tensor(X.iloc[i-size:i+size]))\n",
    "    return tf.stack(Ten, axis=0)\n",
    "\n",
    "def data_tensor3(X, size):\n",
    "    Ten=[]\n",
    "    for i in range (size, X.shape[0]+1-size):\n",
    "        Ten.append(tf.convert_to_tensor(X.iloc[i-size:i+size]))\n",
    "        i+=size\n",
    "    return tf.stack(Ten, axis=0)\n",
    "\n",
    "def data_tensor4(X):\n",
    "    return tf.convert_to_tensor(X)\n",
    "\n",
    "def label_tensor1(y, size):\n",
    "    Ten=[]\n",
    "    for i in range (size, y.shape[0]+1-size):\n",
    "        Ten.append(tf.convert_to_tensor(y.iloc[i-size:i+size]))\n",
    "    return tf.stack(Ten, axis=0)\n",
    "\n",
    "def label_tensor2(y, size):\n",
    "    Ten=[]\n",
    "    for i in range (size, y.shape[0]+1-size):\n",
    "        Ten.append(tf.convert_to_tensor(y.iloc[i-size:i+size].mean()))\n",
    "    return tf.stack(Ten, axis=0)\n",
    "\n",
    "def label_tensor3(y, size):\n",
    "    Ten=[]\n",
    "    for i in range (size, y.shape[0]+1-size):\n",
    "        Ten.append(tf.convert_to_tensor(y.iloc[i-size:i+size].mean()))\n",
    "        i+=size\n",
    "    return tf.stack(Ten, axis=0)\n",
    "\n",
    "def label_tensor4(y):\n",
    "    return tf.convert_to_tensor(y)"
   ]
  },
  {
   "cell_type": "code",
   "execution_count": 9,
   "metadata": {},
   "outputs": [],
   "source": [
    "size = 15\n",
    "X_train = data_tensor3(X, 15)\n",
    "X_test = data_tensor3(Xt, 15)\n",
    "y_train = label_tensor3(y, 15)\n",
    "y_test = label_tensor3(yt, 15)"
   ]
  },
  {
   "cell_type": "code",
   "execution_count": null,
   "metadata": {},
   "outputs": [],
   "source": [
    "    layers.Conv1D(128, 5, activation='relu'),\n",
    "    layers.MaxPool1D(),\n",
    "    layers.Conv1D(256, 5, activation='relu'),\n",
    "    layers.Conv1D(512, 5, activation='relu'),\n",
    "    layers.Flatten(),"
   ]
  },
  {
   "cell_type": "code",
   "execution_count": 46,
   "metadata": {},
   "outputs": [
    {
     "name": "stdout",
     "output_type": "stream",
     "text": [
      "Model: \"sequential\"\n",
      "_________________________________________________________________\n",
      " Layer (type)                Output Shape              Param #   \n",
      "=================================================================\n",
      " conv1d (Conv1D)             (None, 28, 16)            208       \n",
      "                                                                 \n",
      " dropout (Dropout)           (None, 28, 16)            0         \n",
      "                                                                 \n",
      " conv1d_1 (Conv1D)           (None, 26, 16)            784       \n",
      "                                                                 \n",
      " dropout_1 (Dropout)         (None, 26, 16)            0         \n",
      "                                                                 \n",
      " conv1d_2 (Conv1D)           (None, 24, 32)            1568      \n",
      "                                                                 \n",
      " dropout_2 (Dropout)         (None, 24, 32)            0         \n",
      "                                                                 \n",
      " conv1d_3 (Conv1D)           (None, 22, 32)            3104      \n",
      "                                                                 \n",
      " dropout_3 (Dropout)         (None, 22, 32)            0         \n",
      "                                                                 \n",
      " conv1d_4 (Conv1D)           (None, 20, 64)            6208      \n",
      "                                                                 \n",
      " dropout_4 (Dropout)         (None, 20, 64)            0         \n",
      "                                                                 \n",
      " conv1d_5 (Conv1D)           (None, 18, 64)            12352     \n",
      "                                                                 \n",
      " dropout_5 (Dropout)         (None, 18, 64)            0         \n",
      "                                                                 \n",
      " conv1d_6 (Conv1D)           (None, 16, 64)            12352     \n",
      "                                                                 \n",
      " dropout_6 (Dropout)         (None, 16, 64)            0         \n",
      "                                                                 \n",
      " conv1d_7 (Conv1D)           (None, 14, 64)            12352     \n",
      "                                                                 \n",
      " dropout_7 (Dropout)         (None, 14, 64)            0         \n",
      "                                                                 \n",
      " conv1d_8 (Conv1D)           (None, 12, 64)            12352     \n",
      "                                                                 \n",
      " dropout_8 (Dropout)         (None, 12, 64)            0         \n",
      "                                                                 \n",
      " flatten (Flatten)           (None, 768)               0         \n",
      "                                                                 \n",
      " dense (Dense)               (None, 1)                 769       \n",
      "                                                                 \n",
      "=================================================================\n",
      "Total params: 62,049\n",
      "Trainable params: 62,049\n",
      "Non-trainable params: 0\n",
      "_________________________________________________________________\n"
     ]
    }
   ],
   "source": [
    "K.clear_session()\n",
    "model = models.Sequential([\n",
    "    layers.Conv1D(16, 3, activation='relu', input_shape=(2*size, 4)),\n",
    "    layers.Dropout(0.2),\n",
    "    layers.Conv1D(16, 3, activation='relu'),\n",
    "    layers.Dropout(0.2),\n",
    "    layers.Conv1D(32, 3, activation='relu'),\n",
    "    layers.Dropout(0.2),\n",
    "    layers.Conv1D(32, 3, activation='relu'),\n",
    "    layers.Dropout(0.2),\n",
    "    layers.Conv1D(64, 3, activation='relu'),\n",
    "    layers.Dropout(0.2),\n",
    "    layers.Conv1D(64, 3, activation='relu'),\n",
    "    layers.Dropout(0.2),\n",
    "    layers.Conv1D(64, 3, activation='relu'),\n",
    "    layers.Dropout(0.2),\n",
    "    layers.Conv1D(64, 3, activation='relu'),\n",
    "    layers.Dropout(0.2),\n",
    "    layers.Conv1D(64, 3, activation='relu'),\n",
    "    layers.Dropout(0.2),\n",
    "    layers.Flatten(),\n",
    "    layers.Dense(1, activation='sigmoid')\n",
    "])\n",
    "\n",
    "model.summary()"
   ]
  },
  {
   "cell_type": "code",
   "execution_count": 47,
   "metadata": {},
   "outputs": [],
   "source": [
    "model.compile(optimizer='adam',\n",
    "              loss=tf.keras.losses.BinaryCrossentropy(from_logits=False))"
   ]
  },
  {
   "cell_type": "code",
   "execution_count": 50,
   "metadata": {},
   "outputs": [
    {
     "name": "stdout",
     "output_type": "stream",
     "text": [
      "Epoch 1/2\n",
      "1992/1992 [==============================] - 10s 5ms/step - loss: 0.1783 - val_loss: 0.1809\n",
      "Epoch 2/2\n",
      "1992/1992 [==============================] - 10s 5ms/step - loss: 0.1775 - val_loss: 0.1824\n"
     ]
    },
    {
     "data": {
      "text/plain": [
       "<keras.callbacks.History at 0x1f175e4f0a0>"
      ]
     },
     "execution_count": 50,
     "metadata": {},
     "output_type": "execute_result"
    }
   ],
   "source": [
    "model.fit(X_train,\n",
    "          y_train,\n",
    "          epochs=2,\n",
    "          validation_data=(X_test, y_test),\n",
    "            batch_size=256)"
   ]
  },
  {
   "cell_type": "code",
   "execution_count": 44,
   "metadata": {},
   "outputs": [
    {
     "name": "stdout",
     "output_type": "stream",
     "text": [
      "6424/6424 [==============================] - 6s 948us/step\n"
     ]
    }
   ],
   "source": [
    "pred = model.predict(X_test)"
   ]
  },
  {
   "cell_type": "code",
   "execution_count": 45,
   "metadata": {},
   "outputs": [
    {
     "data": {
      "text/plain": [
       "<Axes: >"
      ]
     },
     "execution_count": 45,
     "metadata": {},
     "output_type": "execute_result"
    },
    {
     "data": {
      "image/png": "[encoded data removed]",
      "text/plain": [
       "<Figure size 640x480 with 1 Axes>"
      ]
     },
     "metadata": {},
     "output_type": "display_data"
    }
   ],
   "source": [
    "pd.DataFrame(pred).iloc[20000:40000,].plot()"
   ]
  },
  {
   "cell_type": "code",
   "execution_count": 30,
   "metadata": {},
   "outputs": [
    {
     "data": {
      "text/plain": [
       "<Axes: >"
      ]
     },
     "execution_count": 30,
     "metadata": {},
     "output_type": "execute_result"
    },
    {
     "data": {
      "image/png": "[encoded data removed]",
      "text/plain": [
       "<Figure size 640x480 with 1 Axes>"
      ]
     },
     "metadata": {},
     "output_type": "display_data"
    }
   ],
   "source": [
    "yt.reset_index(drop=True).iloc[20000:40000,].plot()"
   ]
  }
 ],
 "metadata": {
  "kernelspec": {
   "display_name": "TF",
   "language": "python",
   "name": "python3"
  },
  "language_info": {
   "codemirror_mode": {
    "name": "ipython",
    "version": 3
   },
   "file_extension": ".py",
   "mimetype": "text/x-python",
   "name": "python",
   "nbconvert_exporter": "python",
   "pygments_lexer": "ipython3",
   "version": "3.9.16"
  },
  "orig_nbformat": 4,
  "vscode": {
   "interpreter": {
    "hash": "a9224536be84ef2e93b4086f62c28bd88c2e619f5319ccfdb9593bc62002915a"
   }
  }
 },
 "nbformat": 4,
 "nbformat_minor": 2
}
