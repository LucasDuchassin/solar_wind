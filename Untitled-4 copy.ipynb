{
 "cells": [
  {
   "cell_type": "code",
   "execution_count": 1,
   "metadata": {},
   "outputs": [],
   "source": [
    "import numpy as np\n",
    "import pandas as pd\n",
    "import matplotlib.pyplot as plt\n",
    "from problem import get_train_data\n",
    "from problem import get_test_data\n",
    "from catboost import CatBoost, CatBoostClassifier\n",
    "from keras import layers, models, optimizers, losses, metrics\n",
    "import pandas as pd\n",
    "import tensorflow as tf\n",
    "from keras.wrappers.scikit_learn import KerasClassifier\n",
    "from sklearn.preprocessing import StandardScaler\n",
    "from keras import backend as K"
   ]
  },
  {
   "cell_type": "code",
   "execution_count": 2,
   "metadata": {},
   "outputs": [],
   "source": [
    "def compute_rolling_std(X_df, feature, time_window, center=True):\n",
    "    \"\"\"\n",
    "    For a given dataframe, compute the standard deviation over\n",
    "    a defined period of time (time_window) of a defined feature\n",
    "\n",
    "    Parameters\n",
    "    ----------\n",
    "    X : dataframe\n",
    "    feature : str\n",
    "        feature in the dataframe we wish to compute the rolling std from\n",
    "    time_window : str\n",
    "        string that defines the length of the time window passed to `rolling`\n",
    "    center : bool\n",
    "        boolean to indicate if the point of the dataframe considered is\n",
    "        center or end of the window\n",
    "    \"\"\"\n",
    "    name = \"_\".join([feature, time_window, \"std\"])\n",
    "    X_df[name] = X_df[feature].rolling(time_window, center=center).std()\n",
    "    X_df[name] = X_df[name].ffill().bfill()\n",
    "    X_df[name] = X_df[name].astype(X_df[feature].dtype)\n",
    "    return X_df\n",
    "\n",
    "\n",
    "def compute_rolling_mean(X_df, feature, time_window, center=True):\n",
    "    \"\"\"\n",
    "    For a given dataframe, compute the mean over\n",
    "    a defined period of time (time_window) of a defined feature\n",
    "\n",
    "    Parameters\n",
    "    ----------\n",
    "    X : dataframe\n",
    "    feature : str\n",
    "        feature in the dataframe we wish to compute the rolling mean from\n",
    "    time_window : str\n",
    "        string that defines the length of the time window passed to `rolling`\n",
    "    center : bool\n",
    "        boolean to indicate if the point of the dataframe considered is\n",
    "        center or end of the window\n",
    "    \"\"\"\n",
    "    name = \"_\".join([feature, time_window, \"mean\"])\n",
    "    X_df[name] = X_df[feature].rolling(time_window, center=center).mean()\n",
    "    X_df[name] = X_df[name].ffill().bfill()\n",
    "    X_df[name] = X_df[name].astype(X_df[feature].dtype)\n",
    "    return X_df\n",
    "\n",
    "def compute_rolling_variables(X_df, feature, time_window, center=True):\n",
    "    X_df = compute_rolling_mean(X_df, feature, time_window, center)\n",
    "    #X_df = compute_rolling_std(X_df, feature, time_window, center)\n",
    "    return X_df\n",
    "\n",
    "def clip_column(X_df, column, min, max):\n",
    "    X_df[column] = X_df[column].clip(min, max)\n",
    "    return X_df"
   ]
  },
  {
   "cell_type": "code",
   "execution_count": 3,
   "metadata": {},
   "outputs": [],
   "source": [
    "def transform1(X):\n",
    "    X = clip_column(X, 'Beta', 0, 250)\n",
    "    X = clip_column(X, 'Np_nl', 0, 100)\n",
    "    X = clip_column(X, 'Np', 0, 500)\n",
    "\n",
    "    return X"
   ]
  },
  {
   "cell_type": "code",
   "execution_count": 4,
   "metadata": {},
   "outputs": [
    {
     "data": {
      "text/html": [
       "<div>\n",
       "<style scoped>\n",
       "    .dataframe tbody tr th:only-of-type {\n",
       "        vertical-align: middle;\n",
       "    }\n",
       "\n",
       "    .dataframe tbody tr th {\n",
       "        vertical-align: top;\n",
       "    }\n",
       "\n",
       "    .dataframe thead th {\n",
       "        text-align: right;\n",
       "    }\n",
       "</style>\n",
       "<table border=\"1\" class=\"dataframe\">\n",
       "  <thead>\n",
       "    <tr style=\"text-align: right;\">\n",
       "      <th></th>\n",
       "      <th>B</th>\n",
       "      <th>Bx</th>\n",
       "      <th>Bx_rms</th>\n",
       "      <th>By</th>\n",
       "      <th>By_rms</th>\n",
       "      <th>Bz</th>\n",
       "      <th>Bz_rms</th>\n",
       "      <th>Na_nl</th>\n",
       "      <th>Np</th>\n",
       "      <th>Np_nl</th>\n",
       "      <th>...</th>\n",
       "      <th>Range F 8</th>\n",
       "      <th>Range F 9</th>\n",
       "      <th>V</th>\n",
       "      <th>Vth</th>\n",
       "      <th>Vx</th>\n",
       "      <th>Vy</th>\n",
       "      <th>Vz</th>\n",
       "      <th>Beta</th>\n",
       "      <th>Pdyn</th>\n",
       "      <th>RmsBob</th>\n",
       "    </tr>\n",
       "  </thead>\n",
       "  <tbody>\n",
       "    <tr>\n",
       "      <th>1997-10-01 00:00:00</th>\n",
       "      <td>6.584763</td>\n",
       "      <td>3.753262</td>\n",
       "      <td>2.303108</td>\n",
       "      <td>0.966140</td>\n",
       "      <td>2.602693</td>\n",
       "      <td>-5.179685</td>\n",
       "      <td>2.668414</td>\n",
       "      <td>2.290824</td>\n",
       "      <td>23.045732</td>\n",
       "      <td>24.352797</td>\n",
       "      <td>...</td>\n",
       "      <td>2.757919e+09</td>\n",
       "      <td>2.472087e+09</td>\n",
       "      <td>378.313934</td>\n",
       "      <td>80.613098</td>\n",
       "      <td>-351.598389</td>\n",
       "      <td>-138.521454</td>\n",
       "      <td>6.956387</td>\n",
       "      <td>7.641340</td>\n",
       "      <td>5.487331e-15</td>\n",
       "      <td>0.668473</td>\n",
       "    </tr>\n",
       "    <tr>\n",
       "      <th>1997-10-01 00:10:00</th>\n",
       "      <td>6.036456</td>\n",
       "      <td>0.693559</td>\n",
       "      <td>1.810752</td>\n",
       "      <td>-0.904843</td>\n",
       "      <td>2.165570</td>\n",
       "      <td>-1.944006</td>\n",
       "      <td>2.372931</td>\n",
       "      <td>2.119593</td>\n",
       "      <td>23.000492</td>\n",
       "      <td>20.993362</td>\n",
       "      <td>...</td>\n",
       "      <td>3.365612e+09</td>\n",
       "      <td>3.087122e+09</td>\n",
       "      <td>350.421021</td>\n",
       "      <td>69.919327</td>\n",
       "      <td>-331.012146</td>\n",
       "      <td>-110.970787</td>\n",
       "      <td>-21.269474</td>\n",
       "      <td>9.149856</td>\n",
       "      <td>4.783776e-15</td>\n",
       "      <td>0.753848</td>\n",
       "    </tr>\n",
       "    <tr>\n",
       "      <th>1997-10-01 00:20:00</th>\n",
       "      <td>5.653682</td>\n",
       "      <td>-4.684786</td>\n",
       "      <td>0.893058</td>\n",
       "      <td>-2.668830</td>\n",
       "      <td>0.768677</td>\n",
       "      <td>1.479302</td>\n",
       "      <td>1.069266</td>\n",
       "      <td>2.876815</td>\n",
       "      <td>20.676191</td>\n",
       "      <td>17.496399</td>\n",
       "      <td>...</td>\n",
       "      <td>1.675611e+09</td>\n",
       "      <td>1.558640e+09</td>\n",
       "      <td>328.324493</td>\n",
       "      <td>92.194435</td>\n",
       "      <td>-306.114899</td>\n",
       "      <td>-117.035202</td>\n",
       "      <td>-13.018987</td>\n",
       "      <td>11.924199</td>\n",
       "      <td>3.719768e-15</td>\n",
       "      <td>0.282667</td>\n",
       "    </tr>\n",
       "    <tr>\n",
       "      <th>1997-10-01 00:30:00</th>\n",
       "      <td>5.461768</td>\n",
       "      <td>-4.672382</td>\n",
       "      <td>1.081638</td>\n",
       "      <td>-2.425630</td>\n",
       "      <td>0.765681</td>\n",
       "      <td>1.203713</td>\n",
       "      <td>0.934445</td>\n",
       "      <td>2.851195</td>\n",
       "      <td>20.730188</td>\n",
       "      <td>16.747108</td>\n",
       "      <td>...</td>\n",
       "      <td>1.589037e+09</td>\n",
       "      <td>1.439569e+09</td>\n",
       "      <td>319.436859</td>\n",
       "      <td>94.230705</td>\n",
       "      <td>-298.460938</td>\n",
       "      <td>-110.403969</td>\n",
       "      <td>-20.350492</td>\n",
       "      <td>16.032987</td>\n",
       "      <td>3.525211e-15</td>\n",
       "      <td>0.304713</td>\n",
       "    </tr>\n",
       "    <tr>\n",
       "      <th>1997-10-01 00:40:00</th>\n",
       "      <td>6.177846</td>\n",
       "      <td>-5.230110</td>\n",
       "      <td>1.046126</td>\n",
       "      <td>-2.872561</td>\n",
       "      <td>0.635256</td>\n",
       "      <td>1.505010</td>\n",
       "      <td>0.850657</td>\n",
       "      <td>3.317076</td>\n",
       "      <td>20.675701</td>\n",
       "      <td>17.524536</td>\n",
       "      <td>...</td>\n",
       "      <td>1.812308e+09</td>\n",
       "      <td>1.529260e+09</td>\n",
       "      <td>327.545929</td>\n",
       "      <td>89.292595</td>\n",
       "      <td>-307.303070</td>\n",
       "      <td>-111.865845</td>\n",
       "      <td>-12.313167</td>\n",
       "      <td>10.253789</td>\n",
       "      <td>3.694283e-15</td>\n",
       "      <td>0.244203</td>\n",
       "    </tr>\n",
       "  </tbody>\n",
       "</table>\n",
       "<p>5 rows × 33 columns</p>\n",
       "</div>"
      ],
      "text/plain": [
       "                            B        Bx    Bx_rms        By    By_rms  \\\n",
       "1997-10-01 00:00:00  6.584763  3.753262  2.303108  0.966140  2.602693   \n",
       "1997-10-01 00:10:00  6.036456  0.693559  1.810752 -0.904843  2.165570   \n",
       "1997-10-01 00:20:00  5.653682 -4.684786  0.893058 -2.668830  0.768677   \n",
       "1997-10-01 00:30:00  5.461768 -4.672382  1.081638 -2.425630  0.765681   \n",
       "1997-10-01 00:40:00  6.177846 -5.230110  1.046126 -2.872561  0.635256   \n",
       "\n",
       "                           Bz    Bz_rms     Na_nl         Np      Np_nl  ...  \\\n",
       "1997-10-01 00:00:00 -5.179685  2.668414  2.290824  23.045732  24.352797  ...   \n",
       "1997-10-01 00:10:00 -1.944006  2.372931  2.119593  23.000492  20.993362  ...   \n",
       "1997-10-01 00:20:00  1.479302  1.069266  2.876815  20.676191  17.496399  ...   \n",
       "1997-10-01 00:30:00  1.203713  0.934445  2.851195  20.730188  16.747108  ...   \n",
       "1997-10-01 00:40:00  1.505010  0.850657  3.317076  20.675701  17.524536  ...   \n",
       "\n",
       "                        Range F 8     Range F 9           V        Vth  \\\n",
       "1997-10-01 00:00:00  2.757919e+09  2.472087e+09  378.313934  80.613098   \n",
       "1997-10-01 00:10:00  3.365612e+09  3.087122e+09  350.421021  69.919327   \n",
       "1997-10-01 00:20:00  1.675611e+09  1.558640e+09  328.324493  92.194435   \n",
       "1997-10-01 00:30:00  1.589037e+09  1.439569e+09  319.436859  94.230705   \n",
       "1997-10-01 00:40:00  1.812308e+09  1.529260e+09  327.545929  89.292595   \n",
       "\n",
       "                             Vx          Vy         Vz       Beta  \\\n",
       "1997-10-01 00:00:00 -351.598389 -138.521454   6.956387   7.641340   \n",
       "1997-10-01 00:10:00 -331.012146 -110.970787 -21.269474   9.149856   \n",
       "1997-10-01 00:20:00 -306.114899 -117.035202 -13.018987  11.924199   \n",
       "1997-10-01 00:30:00 -298.460938 -110.403969 -20.350492  16.032987   \n",
       "1997-10-01 00:40:00 -307.303070 -111.865845 -12.313167  10.253789   \n",
       "\n",
       "                             Pdyn    RmsBob  \n",
       "1997-10-01 00:00:00  5.487331e-15  0.668473  \n",
       "1997-10-01 00:10:00  4.783776e-15  0.753848  \n",
       "1997-10-01 00:20:00  3.719768e-15  0.282667  \n",
       "1997-10-01 00:30:00  3.525211e-15  0.304713  \n",
       "1997-10-01 00:40:00  3.694283e-15  0.244203  \n",
       "\n",
       "[5 rows x 33 columns]"
      ]
     },
     "execution_count": 4,
     "metadata": {},
     "output_type": "execute_result"
    }
   ],
   "source": [
    "X, y = get_train_data()\n",
    "Xt, yt = get_test_data()\n",
    "X = transform1(X)\n",
    "Xt = transform1(Xt)\n",
    "X.iloc[0:5]\n"
   ]
  },
  {
   "cell_type": "code",
   "execution_count": 5,
   "metadata": {},
   "outputs": [
    {
     "data": {
      "text/plain": [
       "TensorShape([509828, 6, 33])"
      ]
     },
     "execution_count": 5,
     "metadata": {},
     "output_type": "execute_result"
    }
   ],
   "source": [
    "Ten=[]\n",
    "for i in range(X.shape[0]-6):\n",
    "    Ten.append(tf.convert_to_tensor(X.iloc[i:i+6]))\n",
    "X_train = tf.stack(Ten, axis=0)\n",
    "X_train.shape"
   ]
  },
  {
   "cell_type": "code",
   "execution_count": 6,
   "metadata": {},
   "outputs": [
    {
     "data": {
      "text/plain": [
       "TensorShape([509828])"
      ]
     },
     "execution_count": 6,
     "metadata": {},
     "output_type": "execute_result"
    }
   ],
   "source": [
    "Ten = []\n",
    "for i in range(X.shape[0]-6):\n",
    "    Ten.append(tf.convert_to_tensor(y.iloc[i:i+6].mean()))\n",
    "y_train = tf.stack(Ten, axis=0)\n",
    "y_train.shape"
   ]
  },
  {
   "cell_type": "code",
   "execution_count": 7,
   "metadata": {},
   "outputs": [
    {
     "data": {
      "text/plain": [
       "TensorShape([205568, 6, 33])"
      ]
     },
     "execution_count": 7,
     "metadata": {},
     "output_type": "execute_result"
    }
   ],
   "source": [
    "Ten=[]\n",
    "for i in range(Xt.shape[0]-6):\n",
    "    Ten.append(tf.convert_to_tensor(Xt.iloc[i:i+6]))\n",
    "X_test = tf.stack(Ten, axis=0)\n",
    "X_test.shape"
   ]
  },
  {
   "cell_type": "code",
   "execution_count": 8,
   "metadata": {},
   "outputs": [
    {
     "data": {
      "text/plain": [
       "TensorShape([205568])"
      ]
     },
     "execution_count": 8,
     "metadata": {},
     "output_type": "execute_result"
    }
   ],
   "source": [
    "Ten = []\n",
    "for i in range(Xt.shape[0]-6):\n",
    "    Ten.append(tf.convert_to_tensor(yt.iloc[i:i+6].mean()))\n",
    "y_test = tf.stack(Ten, axis=0)\n",
    "y_test.shape"
   ]
  },
  {
   "cell_type": "code",
   "execution_count": 16,
   "metadata": {},
   "outputs": [
    {
     "name": "stdout",
     "output_type": "stream",
     "text": [
      "Model: \"sequential\"\n",
      "_________________________________________________________________\n",
      " Layer (type)                Output Shape              Param #   \n",
      "=================================================================\n",
      " conv1d (Conv1D)             (None, 5, 2000)           134000    \n",
      "                                                                 \n",
      " conv1d_1 (Conv1D)           (None, 4, 400)            1600400   \n",
      "                                                                 \n",
      " flatten (Flatten)           (None, 1600)              0         \n",
      "                                                                 \n",
      " dense (Dense)               (None, 2)                 3202      \n",
      "                                                                 \n",
      "=================================================================\n",
      "Total params: 1,737,602\n",
      "Trainable params: 1,737,602\n",
      "Non-trainable params: 0\n",
      "_________________________________________________________________\n"
     ]
    }
   ],
   "source": [
    "K.clear_session()\n",
    "model = models.Sequential([\n",
    "    layers.Conv1D(2000, 2, activation='relu', input_shape=(6, 33)),\n",
    "    layers.Conv1D(400, 2, activation='relu'),\n",
    "    layers.Flatten(),\n",
    "    layers.Dense(2, activation='sigmoid')\n",
    "])\n",
    "\n",
    "model.summary()"
   ]
  },
  {
   "cell_type": "code",
   "execution_count": 17,
   "metadata": {},
   "outputs": [],
   "source": [
    "model.compile(optimizer='adam', loss='mean_squared_error', metrics=metrics.MeanAbsoluteError())"
   ]
  },
  {
   "cell_type": "code",
   "execution_count": 18,
   "metadata": {},
   "outputs": [
    {
     "name": "stdout",
     "output_type": "stream",
     "text": [
      "Epoch 1/5\n",
      "15933/15933 [==============================] - 557s 35ms/step - loss: 0.1152 - mean_absolute_error: 0.1166 - val_loss: 0.0662 - val_mean_absolute_error: 0.0672\n",
      "Epoch 2/5\n",
      "15933/15933 [==============================] - 550s 35ms/step - loss: 0.1134 - mean_absolute_error: 0.1149 - val_loss: 0.0662 - val_mean_absolute_error: 0.0672\n",
      "Epoch 3/5\n",
      "15933/15933 [==============================] - 547s 34ms/step - loss: 0.1134 - mean_absolute_error: 0.1149 - val_loss: 0.0662 - val_mean_absolute_error: 0.0672\n",
      "Epoch 4/5\n",
      "15933/15933 [==============================] - 551s 35ms/step - loss: 0.1134 - mean_absolute_error: 0.1149 - val_loss: 0.0662 - val_mean_absolute_error: 0.0672\n",
      "Epoch 5/5\n",
      "15933/15933 [==============================] - 547s 34ms/step - loss: 0.1134 - mean_absolute_error: 0.1149 - val_loss: 0.0662 - val_mean_absolute_error: 0.0672\n"
     ]
    },
    {
     "data": {
      "text/plain": [
       "<keras.callbacks.History at 0x1bbe49a9400>"
      ]
     },
     "execution_count": 18,
     "metadata": {},
     "output_type": "execute_result"
    }
   ],
   "source": [
    "model.fit(X_train, y_train, epochs=5, validation_data=(X_test, y_test))"
   ]
  },
  {
   "cell_type": "code",
   "execution_count": 19,
   "metadata": {},
   "outputs": [
    {
     "name": "stdout",
     "output_type": "stream",
     "text": [
      "6424/6424 [==============================] - 12s 2ms/step\n"
     ]
    }
   ],
   "source": [
    "pred = model.predict(X_test)"
   ]
  },
  {
   "cell_type": "code",
   "execution_count": 23,
   "metadata": {},
   "outputs": [
    {
     "data": {
      "text/plain": [
       "(array([0.], dtype=float32), array([411136], dtype=int64))"
      ]
     },
     "execution_count": 23,
     "metadata": {},
     "output_type": "execute_result"
    }
   ],
   "source": [
    "np.unique(pred, return_counts=True)"
   ]
  },
  {
   "cell_type": "code",
   "execution_count": null,
   "metadata": {},
   "outputs": [],
   "source": []
  }
 ],
 "metadata": {
  "kernelspec": {
   "display_name": "ramp-solar-wind",
   "language": "python",
   "name": "python3"
  },
  "language_info": {
   "codemirror_mode": {
    "name": "ipython",
    "version": 3
   },
   "file_extension": ".py",
   "mimetype": "text/x-python",
   "name": "python",
   "nbconvert_exporter": "python",
   "pygments_lexer": "ipython3",
   "version": "3.9.16"
  },
  "orig_nbformat": 4,
  "vscode": {
   "interpreter": {
    "hash": "7c9aa956e2d59f664626ac281328bd8a9d4ec19c50ee90188062f6065960da6d"
   }
  }
 },
 "nbformat": 4,
 "nbformat_minor": 2
}
