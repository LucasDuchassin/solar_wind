{
 "cells": [
  {
   "cell_type": "code",
   "execution_count": 63,
   "metadata": {},
   "outputs": [],
   "source": [
    "import numpy as np\n",
    "import pandas as pd\n",
    "import matplotlib.pyplot as plt\n",
    "from problem import get_train_data\n",
    "from problem import get_test_data\n",
    "from catboost import CatBoost, CatBoostClassifier\n"
   ]
  },
  {
   "cell_type": "code",
   "execution_count": 64,
   "metadata": {},
   "outputs": [
    {
     "name": "stdout",
     "output_type": "stream",
     "text": [
      "<class 'pandas.core.frame.DataFrame'>\n",
      "DatetimeIndex: 509834 entries, 1997-10-01 00:00:00 to 2007-12-31 23:50:00\n",
      "Data columns (total 33 columns):\n",
      " #   Column      Non-Null Count   Dtype  \n",
      "---  ------      --------------   -----  \n",
      " 0   B           509834 non-null  float32\n",
      " 1   Bx          509834 non-null  float32\n",
      " 2   Bx_rms      509834 non-null  float32\n",
      " 3   By          509834 non-null  float32\n",
      " 4   By_rms      509834 non-null  float32\n",
      " 5   Bz          509834 non-null  float32\n",
      " 6   Bz_rms      509834 non-null  float32\n",
      " 7   Na_nl       509834 non-null  float32\n",
      " 8   Np          509834 non-null  float32\n",
      " 9   Np_nl       509834 non-null  float32\n",
      " 10  Range F 0   509834 non-null  float32\n",
      " 11  Range F 1   509834 non-null  float32\n",
      " 12  Range F 10  509834 non-null  float32\n",
      " 13  Range F 11  509834 non-null  float32\n",
      " 14  Range F 12  509834 non-null  float32\n",
      " 15  Range F 13  509834 non-null  float32\n",
      " 16  Range F 14  509834 non-null  float32\n",
      " 17  Range F 2   509834 non-null  float32\n",
      " 18  Range F 3   509834 non-null  float32\n",
      " 19  Range F 4   509834 non-null  float32\n",
      " 20  Range F 5   509834 non-null  float32\n",
      " 21  Range F 6   509834 non-null  float32\n",
      " 22  Range F 7   509834 non-null  float32\n",
      " 23  Range F 8   509834 non-null  float32\n",
      " 24  Range F 9   509834 non-null  float32\n",
      " 25  V           509834 non-null  float32\n",
      " 26  Vth         509834 non-null  float32\n",
      " 27  Vx          509834 non-null  float32\n",
      " 28  Vy          509834 non-null  float32\n",
      " 29  Vz          509834 non-null  float32\n",
      " 30  Beta        509834 non-null  float64\n",
      " 31  Pdyn        509834 non-null  float64\n",
      " 32  RmsBob      509834 non-null  float32\n",
      "dtypes: float32(31), float64(2)\n",
      "memory usage: 72.0 MB\n"
     ]
    }
   ],
   "source": [
    "data_train, labels_train = get_train_data()\n",
    "data_test, labels_test = get_test_data()\n",
    "data_train.info()"
   ]
  },
  {
   "cell_type": "code",
   "execution_count": 65,
   "metadata": {},
   "outputs": [
    {
     "name": "stdout",
     "output_type": "stream",
     "text": [
      "<class 'pandas.core.series.Series'>\n",
      "DatetimeIndex: 509834 entries, 1997-10-01 00:00:00 to 2007-12-31 23:50:00\n",
      "Series name: label\n",
      "Non-Null Count   Dtype\n",
      "--------------   -----\n",
      "509834 non-null  int32\n",
      "dtypes: int32(1)\n",
      "memory usage: 5.8 MB\n"
     ]
    }
   ],
   "source": [
    "labels_train.info()"
   ]
  },
  {
   "cell_type": "code",
   "execution_count": 66,
   "metadata": {},
   "outputs": [],
   "source": [
    "data_train.drop(columns=[\"Range F 14\"], inplace=True)\n",
    "data_train['Np'] = data_train['Np'].clip(0, 500)\n",
    "data_train['Np_nl'] = data_train['Np_nl'].clip(0, 100)\n",
    "data_train['Beta'] = data_train['Beta'].clip(0, 250)"
   ]
  },
  {
   "cell_type": "code",
   "execution_count": 67,
   "metadata": {},
   "outputs": [
    {
     "data": {
      "text/plain": [
       "'for column in data_train.columns:\\n    data_train[column].plot()\\n    labels_train.plot()\\n    plt.title(column)\\n    plt.show()'"
      ]
     },
     "execution_count": 67,
     "metadata": {},
     "output_type": "execute_result"
    }
   ],
   "source": [
    "\"\"\"for column in data_train.columns:\n",
    "    data_train[column].plot()\n",
    "    labels_train.plot()\n",
    "    plt.title(column)\n",
    "    plt.show()\"\"\""
   ]
  },
  {
   "cell_type": "code",
   "execution_count": 68,
   "metadata": {},
   "outputs": [],
   "source": [
    "data_test.drop(columns=[\"Range F 14\"], inplace=True)\n",
    "data_test['Np'] = data_test['Np'].clip(0, 500)\n",
    "data_test['Np_nl'] = data_test['Np_nl'].clip(0, 100)\n",
    "data_test['Beta'] = data_test['Beta'].clip(0, 250)"
   ]
  },
  {
   "cell_type": "code",
   "execution_count": 78,
   "metadata": {},
   "outputs": [],
   "source": [
    "\n",
    "cat = CatBoostClassifier(\n",
    "    iterations=100,\n",
    "    loss_function='Logloss',\n",
    "    auto_class_weights='Balanced',\n",
    "    learning_rate=0.1,\n",
    "    use_best_model=True\n",
    "    #eval_metric=['Accuracy', 'Recall', 'F1']\n",
    ")"
   ]
  },
  {
   "cell_type": "code",
   "execution_count": 79,
   "metadata": {},
   "outputs": [
    {
     "name": "stdout",
     "output_type": "stream",
     "text": [
      "0:\tlearn: 0.6259396\ttest: 0.6190540\tbest: 0.6190540 (0)\ttotal: 56.2ms\tremaining: 5.57s\n",
      "10:\tlearn: 0.4066238\ttest: 0.3732596\tbest: 0.3732596 (10)\ttotal: 569ms\tremaining: 4.6s\n",
      "20:\tlearn: 0.3708302\ttest: 0.3441259\tbest: 0.3441259 (20)\ttotal: 1.07s\tremaining: 4.03s\n",
      "30:\tlearn: 0.3565840\ttest: 0.3440368\tbest: 0.3391667 (23)\ttotal: 1.53s\tremaining: 3.4s\n",
      "40:\tlearn: 0.3479793\ttest: 0.3421540\tbest: 0.3391667 (23)\ttotal: 1.99s\tremaining: 2.86s\n",
      "50:\tlearn: 0.3410928\ttest: 0.3468717\tbest: 0.3391667 (23)\ttotal: 2.45s\tremaining: 2.36s\n",
      "60:\tlearn: 0.3349096\ttest: 0.3585664\tbest: 0.3391667 (23)\ttotal: 2.91s\tremaining: 1.86s\n",
      "70:\tlearn: 0.3303201\ttest: 0.3636345\tbest: 0.3391667 (23)\ttotal: 3.38s\tremaining: 1.38s\n",
      "80:\tlearn: 0.3254916\ttest: 0.3710857\tbest: 0.3391667 (23)\ttotal: 3.85s\tremaining: 903ms\n",
      "90:\tlearn: 0.3212603\ttest: 0.3759614\tbest: 0.3391667 (23)\ttotal: 4.32s\tremaining: 427ms\n",
      "99:\tlearn: 0.3178523\ttest: 0.3806825\tbest: 0.3391667 (23)\ttotal: 4.74s\tremaining: 0us\n",
      "\n",
      "bestTest = 0.339166655\n",
      "bestIteration = 23\n",
      "\n",
      "Shrink model to first 24 iterations.\n"
     ]
    },
    {
     "data": {
      "text/plain": [
       "<catboost.core.CatBoostClassifier at 0x266a11070d0>"
      ]
     },
     "execution_count": 79,
     "metadata": {},
     "output_type": "execute_result"
    }
   ],
   "source": [
    "cat.fit(\n",
    "    data_train,\n",
    "    y=labels_train,\n",
    "    verbose=10,\n",
    "    eval_set=(data_test, labels_test)\n",
    ")"
   ]
  },
  {
   "cell_type": "code",
   "execution_count": 86,
   "metadata": {},
   "outputs": [],
   "source": [
    "labels_pred = cat.predict(data_test)"
   ]
  },
  {
   "cell_type": "code",
   "execution_count": 87,
   "metadata": {},
   "outputs": [
    {
     "data": {
      "text/plain": [
       "2008-01-01 00:00:00    0\n",
       "2008-01-01 00:10:00    0\n",
       "2008-01-01 00:20:00    0\n",
       "2008-01-01 00:30:00    0\n",
       "2008-01-01 00:40:00    0\n",
       "                      ..\n",
       "2011-12-31 23:10:00    0\n",
       "2011-12-31 23:20:00    0\n",
       "2011-12-31 23:30:00    0\n",
       "2011-12-31 23:40:00    0\n",
       "2011-12-31 23:50:00    0\n",
       "Length: 205574, dtype: int64"
      ]
     },
     "execution_count": 87,
     "metadata": {},
     "output_type": "execute_result"
    }
   ],
   "source": [
    "labels_pred = pd.Series(data=labels_pred, index=labels_test.index)\n"
   ]
  },
  {
   "cell_type": "code",
   "execution_count": 90,
   "metadata": {},
   "outputs": [
    {
     "data": {
      "text/plain": [
       "0    180595\n",
       "1     24979\n",
       "dtype: int64"
      ]
     },
     "execution_count": 90,
     "metadata": {},
     "output_type": "execute_result"
    },
    {
     "data": {
      "image/png": "[encoded data removed]",
      "text/plain": [
       "<Figure size 640x480 with 1 Axes>"
      ]
     },
     "metadata": {},
     "output_type": "display_data"
    }
   ],
   "source": [
    "labels_pred.plot()\n",
    "labels_pred.value_counts()"
   ]
  },
  {
   "cell_type": "code",
   "execution_count": 91,
   "metadata": {},
   "outputs": [
    {
     "data": {
      "text/plain": [
       "0    191755\n",
       "1     13819\n",
       "Name: label, dtype: int64"
      ]
     },
     "execution_count": 91,
     "metadata": {},
     "output_type": "execute_result"
    },
    {
     "data": {
      "image/png": "[encoded data removed]",
      "text/plain": [
       "<Figure size 640x480 with 1 Axes>"
      ]
     },
     "metadata": {},
     "output_type": "display_data"
    }
   ],
   "source": [
    "labels_test.plot()\n",
    "labels_test.value_counts()"
   ]
  },
  {
   "cell_type": "code",
   "execution_count": null,
   "metadata": {},
   "outputs": [],
   "source": []
  }
 ],
 "metadata": {
  "kernelspec": {
   "display_name": "ramp-solar-wind",
   "language": "python",
   "name": "python3"
  },
  "language_info": {
   "codemirror_mode": {
    "name": "ipython",
    "version": 3
   },
   "file_extension": ".py",
   "mimetype": "text/x-python",
   "name": "python",
   "nbconvert_exporter": "python",
   "pygments_lexer": "ipython3",
   "version": "3.9.16"
  },
  "orig_nbformat": 4,
  "vscode": {
   "interpreter": {
    "hash": "7c9aa956e2d59f664626ac281328bd8a9d4ec19c50ee90188062f6065960da6d"
   }
  }
 },
 "nbformat": 4,
 "nbformat_minor": 2
}
