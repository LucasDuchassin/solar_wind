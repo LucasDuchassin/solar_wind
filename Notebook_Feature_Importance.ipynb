{
 "cells": [
  {
   "cell_type": "code",
   "execution_count": 1,
   "metadata": {},
   "outputs": [],
   "source": [
    "import numpy as np\n",
    "import pandas as pd\n",
    "import matplotlib.pyplot as plt\n",
    "from problem import get_train_data\n",
    "from problem import get_test_data\n",
    "from catboost import CatBoost, CatBoostClassifier"
   ]
  },
  {
   "cell_type": "code",
   "execution_count": 2,
   "metadata": {},
   "outputs": [],
   "source": [
    "def compute_rolling_std(X_df, feature, time_window, center=True):\n",
    "    \"\"\"\n",
    "    For a given dataframe, compute the standard deviation over\n",
    "    a defined period of time (time_window) of a defined feature\n",
    "\n",
    "    Parameters\n",
    "    ----------\n",
    "    X : dataframe\n",
    "    feature : str\n",
    "        feature in the dataframe we wish to compute the rolling std from\n",
    "    time_window : str\n",
    "        string that defines the length of the time window passed to `rolling`\n",
    "    center : bool\n",
    "        boolean to indicate if the point of the dataframe considered is\n",
    "        center or end of the window\n",
    "    \"\"\"\n",
    "    name = \"_\".join([feature, time_window, \"std\"])\n",
    "    X_df[name] = X_df[feature].rolling(time_window, center=center).std()\n",
    "    X_df[name] = X_df[name].ffill().bfill()\n",
    "    X_df[name] = X_df[name].astype(X_df[feature].dtype)\n",
    "    return X_df\n",
    "\n",
    "def compute_rolling_mean(X_df, feature, time_window, center=True):\n",
    "    \"\"\"\n",
    "    For a given dataframe, compute the mean over\n",
    "    a defined period of time (time_window) of a defined feature\n",
    "\n",
    "    Parameters\n",
    "    ----------\n",
    "    X : dataframe\n",
    "    feature : str\n",
    "        feature in the dataframe we wish to compute the rolling mean from\n",
    "    time_window : str\n",
    "        string that defines the length of the time window passed to `rolling`\n",
    "    center : bool\n",
    "        boolean to indicate if the point of the dataframe considered is\n",
    "        center or end of the window\n",
    "    \"\"\"\n",
    "    name = \"_\".join([feature, time_window, \"mean\"])\n",
    "    X_df[name] = X_df[feature].rolling(time_window, center=center).mean()\n",
    "    X_df[name] = X_df[name].ffill().bfill()\n",
    "    X_df[name] = X_df[name].astype(X_df[feature].dtype)\n",
    "    return X_df\n",
    "\n",
    "def compute_rolling_variables(X_df, feature, time_window, center=True):\n",
    "    X_df = compute_rolling_mean(X_df, feature, time_window, center)\n",
    "    X_df = compute_rolling_std(X_df, feature, time_window, center)\n",
    "    return X_df\n",
    "\n",
    "def clip_column(X_df, column, min, max):\n",
    "    X_df[column] = X_df[column].clip(min, max)\n",
    "    return X_df\n",
    "\n",
    "def transform(X):\n",
    "    X = clip_column(X, 'Beta', 0, 250)\n",
    "    X = clip_column(X, 'Np_nl', 0, 100)\n",
    "    X = clip_column(X, 'Np', 0, 500)\n",
    "\n",
    "    for i in [\"1h\", \"2h\", \"4h\", \"6h\", \"12h\", \"24h\", \"48h\"]:\n",
    "        for j in [\"B\", \"Beta\", \"RmsBob\", \"Vx\", \"Vth\", \"Range F 13\", \"Range F 9\", \"Range F 2\", \"V\"]:\n",
    "            X = compute_rolling_variables(X, j, i)\n",
    "            X = X.copy()\n",
    "\n",
    "    return X"
   ]
  },
  {
   "cell_type": "code",
   "execution_count": 13,
   "metadata": {},
   "outputs": [],
   "source": [
    "X, y = get_train_data()\n",
    "Xt, yt = get_test_data()\n",
    "X = transform(X)\n",
    "Xt = transform(Xt)"
   ]
  },
  {
   "cell_type": "code",
   "execution_count": 14,
   "metadata": {},
   "outputs": [],
   "source": [
    "classifier = CatBoostClassifier(iterations=300,\n",
    "                                depth=5,\n",
    "                                l2_leaf_reg=3,\n",
    "                                loss_function='Logloss',\n",
    "                                auto_class_weights='SqrtBalanced',\n",
    "                                learning_rate=0.05,\n",
    "                                logging_level='Silent',\n",
    "                                task_type=\"CPU\")"
   ]
  },
  {
   "cell_type": "code",
   "execution_count": 16,
   "metadata": {},
   "outputs": [],
   "source": [
    "import shap\n",
    "explainer = shap.TreeExplainer(cat)\n",
    "shap_values = explainer.shap_values(X)\n",
    "shap.summary_plot(shap_values, X.values, plot_type='bar', class_names=cat.classes_, feature_names=X.columns)"
   ]
  },
  {
   "cell_type": "code",
   "execution_count": null,
   "metadata": {},
   "outputs": [],
   "source": []
  }
 ],
 "metadata": {
  "kernelspec": {
   "display_name": "ramp-solar-wind",
   "language": "python",
   "name": "python3"
  },
  "language_info": {
   "codemirror_mode": {
    "name": "ipython",
    "version": 3
   },
   "file_extension": ".py",
   "mimetype": "text/x-python",
   "name": "python",
   "nbconvert_exporter": "python",
   "pygments_lexer": "ipython3",
   "version": "3.9.16"
  },
  "orig_nbformat": 4,
  "vscode": {
   "interpreter": {
    "hash": "7c9aa956e2d59f664626ac281328bd8a9d4ec19c50ee90188062f6065960da6d"
   }
  }
 },
 "nbformat": 4,
 "nbformat_minor": 2
}
